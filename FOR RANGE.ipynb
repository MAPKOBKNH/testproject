{
 "cells": [
  {
   "cell_type": "markdown",
   "metadata": {},
   "source": [
    "Циклы FOR/ RANGE"
   ]
  },
  {
   "cell_type": "code",
   "execution_count": 12,
   "metadata": {},
   "outputs": [
    {
     "name": "stdout",
     "output_type": "stream",
     "text": [
      "6\n",
      "* * * * * * \n",
      "* * * * * * \n",
      "* * * * * * \n",
      "* * * * * * \n",
      "* * * * * * \n",
      "* * * * * * \n"
     ]
    }
   ],
   "source": [
    "n = int(input())\n",
    "for i in range(n):\n",
    "    for j in range(n):\n",
    "        print('*', end =' ')\n",
    "    print()"
   ]
  },
  {
   "cell_type": "code",
   "execution_count": 1,
   "metadata": {},
   "outputs": [
    {
     "name": "stdout",
     "output_type": "stream",
     "text": [
      "1\n",
      "9\n",
      "1\n",
      "9\n",
      "\t1 \t2 \t3 \t4 \t5 \t6 \t7 \t8 \t9 \t\n",
      "1 \t1 \t2 \t3 \t4 \t5 \t6 \t7 \t8 \t9 \t\n",
      "2 \t2 \t4 \t6 \t8 \t10 \t12 \t14 \t16 \t18 \t\n",
      "3 \t3 \t6 \t9 \t12 \t15 \t18 \t21 \t24 \t27 \t\n",
      "4 \t4 \t8 \t12 \t16 \t20 \t24 \t28 \t32 \t36 \t\n",
      "5 \t5 \t10 \t15 \t20 \t25 \t30 \t35 \t40 \t45 \t\n",
      "6 \t6 \t12 \t18 \t24 \t30 \t36 \t42 \t48 \t54 \t\n",
      "7 \t7 \t14 \t21 \t28 \t35 \t42 \t49 \t56 \t63 \t\n",
      "8 \t8 \t16 \t24 \t32 \t40 \t48 \t56 \t64 \t72 \t\n",
      "9 \t9 \t18 \t27 \t36 \t45 \t54 \t63 \t72 \t81 \t\n"
     ]
    }
   ],
   "source": [
    "#      c    d\n",
    "# a    a*c  a*d\n",
    "# b    b*c  b*d\"\"\"\n",
    "\n",
    "# все внешние циклы берут значение переменой только ОДИН раз. Следующая замена - после прохода\n",
    "# всех внутренних поступенчато\n",
    "\n",
    "a = int(input())\n",
    "b = int(input())\n",
    "c = int(input())\n",
    "d = int(input())\n",
    "print('\\t',  end = \"\")             # выводит один ТАВ в горизон\n",
    "for j in range(c, d+1):\n",
    "    print(j, \"\\t\", end = \"\")       # выводит все значения отрезка через ТАВ (перебор всех знач. J)\n",
    "print()                            # новая строка\n",
    "for i in range(a, b+1): \n",
    "    print (i, \"\\t\",end = \"\")       # вывод i из диапазона ОДИН раз (без перебора)\n",
    "    for j in range(c, d+1):\n",
    "        print(j*i, \"\\t\", end = \"\") # вывод i*j в строку через ТАВ\n",
    "    print()                        # новая строка"
   ]
  },
  {
   "cell_type": "code",
   "execution_count": 26,
   "metadata": {},
   "outputs": [
    {
     "name": "stdout",
     "output_type": "stream",
     "text": [
      "3\n",
      "27\n",
      "195\n"
     ]
    }
   ],
   "source": [
    "     \n",
    "a = int(input())\n",
    "b = int(input())\n",
    "n = 0                            # ввод переменной (суммы)\n",
    "for i in range (a,b+1):          # присвоение значения для i\n",
    "    if i % 2 != 0:               # проверка условия\n",
    "        n +=i                    # вычисление суммы, откат к for\n",
    "print(n)                         # вывод"
   ]
  },
  {
   "cell_type": "code",
   "execution_count": 25,
   "metadata": {},
   "outputs": [
    {
     "name": "stdout",
     "output_type": "stream",
     "text": [
      "3 27\n",
      "195\n"
     ]
    }
   ],
   "source": [
    "a,b = (int(i) for i in input().split())\n",
    "\n",
    "\n",
    "n = 0                            # ввод переменной (суммы)\n",
    "for i in range (a,b+1):          # присвоение значения для i\n",
    "    if i % 2 != 0:               # проверка условия\n",
    "        n +=i                    # вычисление суммы, откат к for\n",
    "print(n)                         # вывод"
   ]
  },
  {
   "cell_type": "code",
   "execution_count": 27,
   "metadata": {},
   "outputs": [
    {
     "name": "stdout",
     "output_type": "stream",
     "text": [
      "-5 12\n",
      "4.5\n"
     ]
    }
   ],
   "source": [
    "a,b = (int(i) for i in input().split())\n",
    "s = 0\n",
    "n = 0                            \n",
    "for i in range (a,b+1):          \n",
    "    if i % 3 == 0:              \n",
    "        s += i\n",
    "        n += 1                   \n",
    "print(s/n)                       "
   ]
  },
  {
   "cell_type": "code",
   "execution_count": 2,
   "metadata": {},
   "outputs": [
    {
     "name": "stdout",
     "output_type": "stream",
     "text": [
      "0\n",
      "1\n",
      "2\n",
      "3\n",
      "4\n",
      "5\n",
      "6\n",
      "7\n",
      "8\n"
     ]
    }
   ],
   "source": [
    "for i in range (9):\n",
    "    print(i)"
   ]
  },
  {
   "cell_type": "code",
   "execution_count": null,
   "metadata": {},
   "outputs": [],
   "source": []
  }
 ],
 "metadata": {
  "kernelspec": {
   "display_name": "Python 3",
   "language": "python",
   "name": "python3"
  },
  "language_info": {
   "codemirror_mode": {
    "name": "ipython",
    "version": 3
   },
   "file_extension": ".py",
   "mimetype": "text/x-python",
   "name": "python",
   "nbconvert_exporter": "python",
   "pygments_lexer": "ipython3",
   "version": "3.8.10"
  }
 },
 "nbformat": 4,
 "nbformat_minor": 4
}
