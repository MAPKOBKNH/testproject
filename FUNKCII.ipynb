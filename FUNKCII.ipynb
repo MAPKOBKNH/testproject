{
 "cells": [
  {
   "cell_type": "code",
   "execution_count": 4,
   "metadata": {},
   "outputs": [
    {
     "data": {
      "text/plain": [
       "10555"
      ]
     },
     "execution_count": 4,
     "metadata": {},
     "output_type": "execute_result"
    }
   ],
   "source": [
    "def f(n):               # ОБЪЯВЛЕНИЕ ФУНКЦИИ\n",
    "    return n * 10 + 5\n",
    "\n",
    "f(f(f(10))) # тут присвоили для n начальное значение"
   ]
  },
  {
   "cell_type": "code",
   "execution_count": 22,
   "metadata": {},
   "outputs": [
    {
     "data": {
      "text/plain": [
       "7.25"
      ]
     },
     "execution_count": 22,
     "metadata": {},
     "output_type": "execute_result"
    }
   ],
   "source": [
    "\n",
    "def f(x):\n",
    "    \n",
    "    if x <= -2:\n",
    "        return 1-(x+2)**2\n",
    "    elif -2<x<=2:\n",
    "        return (- (x/2))\n",
    "    else:\n",
    "        return (x-2)**2+1\n",
    "\n",
    "x=4.5\n",
    "\n",
    "f(x)\n",
    "    "
   ]
  },
  {
   "cell_type": "code",
   "execution_count": 1,
   "metadata": {},
   "outputs": [
    {
     "name": "stdout",
     "output_type": "stream",
     "text": [
      "10\n",
      "5.0\n"
     ]
    }
   ],
   "source": [
    "i = int(input())\n",
    "i = i/2\n",
    "print(i)"
   ]
  },
  {
   "cell_type": "code",
   "execution_count": 24,
   "metadata": {},
   "outputs": [
    {
     "name": "stdout",
     "output_type": "stream",
     "text": [
      "[1, 2, 3]\n",
      "[1]\n"
     ]
    }
   ],
   "source": [
    "def modify_list(l):\n",
    "    for i in l [::-1]:\n",
    "        if i%2 != 0:\n",
    "            l.remove(i)\n",
    "        else:\n",
    "            continue\n",
    "    l1=[]\n",
    "    for i in l:\n",
    "        l1.append(i//2)\n",
    "    l[:]=l1    # заменить все содержимое списка содержимым другого\n",
    "l = [1, 2, 3, 4, 5, 6]\n",
    "modify_list(l)\n",
    "print(l)\n",
    "modify_list(l)\n",
    "print(l)\n",
    "    "
   ]
  },
  {
   "cell_type": "code",
   "execution_count": null,
   "metadata": {},
   "outputs": [],
   "source": []
  }
 ],
 "metadata": {
  "kernelspec": {
   "display_name": "Python 3",
   "language": "python",
   "name": "python3"
  },
  "language_info": {
   "codemirror_mode": {
    "name": "ipython",
    "version": 3
   },
   "file_extension": ".py",
   "mimetype": "text/x-python",
   "name": "python",
   "nbconvert_exporter": "python",
   "pygments_lexer": "ipython3",
   "version": "3.8.10"
  }
 },
 "nbformat": 4,
 "nbformat_minor": 4
}
