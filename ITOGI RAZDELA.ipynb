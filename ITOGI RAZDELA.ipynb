{
 "cells": [
  {
   "cell_type": "code",
   "execution_count": 1,
   "metadata": {},
   "outputs": [
    {
     "ename": "KeyboardInterrupt",
     "evalue": "Interrupted by user",
     "output_type": "error",
     "traceback": [
      "\u001b[0;31m---------------------------------------------------------------------------\u001b[0m",
      "\u001b[0;31mKeyboardInterrupt\u001b[0m                         Traceback (most recent call last)",
      "\u001b[0;32m<ipython-input-1-ce04e273f20a>\u001b[0m in \u001b[0;36m<module>\u001b[0;34m\u001b[0m\n\u001b[0;32m----> 1\u001b[0;31m \u001b[0mIN\u001b[0m \u001b[0;34m=\u001b[0m \u001b[0;34m[\u001b[0m\u001b[0mint\u001b[0m\u001b[0;34m(\u001b[0m\u001b[0minput\u001b[0m\u001b[0;34m(\u001b[0m\u001b[0;34m)\u001b[0m\u001b[0;34m)\u001b[0m\u001b[0;34m]\u001b[0m\u001b[0;34m\u001b[0m\u001b[0;34m\u001b[0m\u001b[0m\n\u001b[0m\u001b[1;32m      2\u001b[0m \u001b[0;32mwhile\u001b[0m \u001b[0msum\u001b[0m\u001b[0;34m(\u001b[0m\u001b[0mIN\u001b[0m\u001b[0;34m)\u001b[0m \u001b[0;34m!=\u001b[0m \u001b[0;36m0\u001b[0m\u001b[0;34m:\u001b[0m\u001b[0;34m\u001b[0m\u001b[0;34m\u001b[0m\u001b[0m\n\u001b[1;32m      3\u001b[0m     \u001b[0mn\u001b[0m \u001b[0;34m=\u001b[0m \u001b[0mint\u001b[0m\u001b[0;34m(\u001b[0m\u001b[0minput\u001b[0m\u001b[0;34m(\u001b[0m\u001b[0;34m)\u001b[0m\u001b[0;34m)\u001b[0m\u001b[0;34m\u001b[0m\u001b[0;34m\u001b[0m\u001b[0m\n\u001b[1;32m      4\u001b[0m     \u001b[0mIN\u001b[0m \u001b[0;34m+=\u001b[0m \u001b[0;34m[\u001b[0m\u001b[0mn\u001b[0m\u001b[0;34m]\u001b[0m\u001b[0;34m\u001b[0m\u001b[0;34m\u001b[0m\u001b[0m\n\u001b[1;32m      5\u001b[0m \u001b[0mprint\u001b[0m \u001b[0;34m(\u001b[0m\u001b[0msum\u001b[0m\u001b[0;34m(\u001b[0m\u001b[0;34m(\u001b[0m\u001b[0mi\u001b[0m\u001b[0;34m*\u001b[0m\u001b[0mi\u001b[0m\u001b[0;34m)\u001b[0m \u001b[0;32mfor\u001b[0m \u001b[0mi\u001b[0m \u001b[0;32min\u001b[0m \u001b[0mIN\u001b[0m\u001b[0;34m)\u001b[0m\u001b[0;34m)\u001b[0m\u001b[0;34m\u001b[0m\u001b[0;34m\u001b[0m\u001b[0m\n",
      "\u001b[0;32m/usr/lib/python3/dist-packages/ipykernel/kernelbase.py\u001b[0m in \u001b[0;36mraw_input\u001b[0;34m(self, prompt)\u001b[0m\n\u001b[1;32m    858\u001b[0m                 \u001b[0;34m\"raw_input was called, but this frontend does not support input requests.\"\u001b[0m\u001b[0;34m\u001b[0m\u001b[0;34m\u001b[0m\u001b[0m\n\u001b[1;32m    859\u001b[0m             )\n\u001b[0;32m--> 860\u001b[0;31m         return self._input_request(str(prompt),\n\u001b[0m\u001b[1;32m    861\u001b[0m             \u001b[0mself\u001b[0m\u001b[0;34m.\u001b[0m\u001b[0m_parent_ident\u001b[0m\u001b[0;34m,\u001b[0m\u001b[0;34m\u001b[0m\u001b[0;34m\u001b[0m\u001b[0m\n\u001b[1;32m    862\u001b[0m             \u001b[0mself\u001b[0m\u001b[0;34m.\u001b[0m\u001b[0m_parent_header\u001b[0m\u001b[0;34m,\u001b[0m\u001b[0;34m\u001b[0m\u001b[0;34m\u001b[0m\u001b[0m\n",
      "\u001b[0;32m/usr/lib/python3/dist-packages/ipykernel/kernelbase.py\u001b[0m in \u001b[0;36m_input_request\u001b[0;34m(self, prompt, ident, parent, password)\u001b[0m\n\u001b[1;32m    891\u001b[0m             \u001b[0;32mexcept\u001b[0m \u001b[0mKeyboardInterrupt\u001b[0m\u001b[0;34m:\u001b[0m\u001b[0;34m\u001b[0m\u001b[0;34m\u001b[0m\u001b[0m\n\u001b[1;32m    892\u001b[0m                 \u001b[0;31m# re-raise KeyboardInterrupt, to truncate traceback\u001b[0m\u001b[0;34m\u001b[0m\u001b[0;34m\u001b[0m\u001b[0;34m\u001b[0m\u001b[0m\n\u001b[0;32m--> 893\u001b[0;31m                 \u001b[0;32mraise\u001b[0m \u001b[0mKeyboardInterrupt\u001b[0m\u001b[0;34m(\u001b[0m\u001b[0;34m\"Interrupted by user\"\u001b[0m\u001b[0;34m)\u001b[0m \u001b[0;32mfrom\u001b[0m \u001b[0;32mNone\u001b[0m\u001b[0;34m\u001b[0m\u001b[0;34m\u001b[0m\u001b[0m\n\u001b[0m\u001b[1;32m    894\u001b[0m             \u001b[0;32melse\u001b[0m\u001b[0;34m:\u001b[0m\u001b[0;34m\u001b[0m\u001b[0;34m\u001b[0m\u001b[0m\n\u001b[1;32m    895\u001b[0m                 \u001b[0;32mbreak\u001b[0m\u001b[0;34m\u001b[0m\u001b[0;34m\u001b[0m\u001b[0m\n",
      "\u001b[0;31mKeyboardInterrupt\u001b[0m: Interrupted by user"
     ]
    }
   ],
   "source": [
    "IN = [int(input())]\n",
    "while sum(IN) != 0:\n",
    "    n = int(input())\n",
    "    IN += [n]\n",
    "print (sum((i*i) for i in IN))"
   ]
  },
  {
   "cell_type": "code",
   "execution_count": null,
   "metadata": {},
   "outputs": [],
   "source": [
    "s = int(input())\n",
    "IN = []; IN.append(s)\n",
    "while s != 0:\n",
    "    n = int(input())\n",
    "    s += n\n",
    "    IN.append(n)\n",
    "    print(IN)\n",
    "print (sum((i*i) for i in IN))"
   ]
  },
  {
   "cell_type": "code",
   "execution_count": 1,
   "metadata": {},
   "outputs": [
    {
     "name": "stdout",
     "output_type": "stream",
     "text": [
      "3\n",
      "1 2 2\n"
     ]
    }
   ],
   "source": [
    "a =[]\n",
    "n = int(input())\n",
    "for i in range(1,n+1): # диапазон от 1 до введенного числа\n",
    "    for j in range(i):\n",
    "        a += [i]\n",
    "print(*a[:n]) # распаковать список"
   ]
  },
  {
   "cell_type": "code",
   "execution_count": null,
   "metadata": {},
   "outputs": [],
   "source": [
    "IN = [int(i) for i in input().split()] # vvod spiska 4erez probel\n",
    "n = int(input())\n",
    "a =[]\n",
    "x = 0 # s4et4ik\n",
    "for i in IN:\n",
    "    if i == n:\n",
    "        a.append(x)\n",
    "        x +=1\n",
    "    else:\n",
    "        x +=1\n",
    "if len(a) == 0:\n",
    "    print ('Отсутствует')\n",
    "else:\n",
    "    print(*a)"
   ]
  },
  {
   "cell_type": "markdown",
   "metadata": {},
   "source": [
    "Напишите программу, на вход которой подаётся прямоугольная матрица в виде последовательности строк. После последней строки матрицы идёт строка, содержащая только строку \"end\" (без кавычек, см. Sample Input).\n",
    "\n",
    "Программа должна вывести матрицу того же размера, у которой каждый элемент в позиции i, j равен сумме элементов первой матрицы на позициях (i-1, j), (i+1, j), (i, j-1), (i, j+1). У крайних символов соседний элемент находится с противоположной стороны матрицы.\n",
    "\n",
    "В случае одной строки/столбца элемент сам себе является соседом по соответствующему направлению."
   ]
  },
  {
   "cell_type": "code",
   "execution_count": 34,
   "metadata": {},
   "outputs": [
    {
     "name": "stdout",
     "output_type": "stream",
     "text": [
      "1 2 3\n",
      "4 5 6\n",
      "7 8 9\n",
      "end\n",
      "16 17 18\n",
      "19 20 21\n",
      "22 23 24\n"
     ]
    }
   ],
   "source": [
    "inmat = [] # входная матрица\n",
    "\n",
    "input_string = input() # переменная ввода\n",
    "if input_string != \"end\":\n",
    "    a = [int(i) for i in input_string.split()] # ввод первой строки\n",
    "\n",
    "while True: # пока цикл не прерван выполнять действие\n",
    "    inmat.append(a)\n",
    "\n",
    "    input_string = input() # ввод последующих строк\n",
    "\n",
    "    if input_string == 'end': # сигнал для обрыва ввода и произведения вычисления\n",
    "        col = [] # выводная матрица\n",
    "        for x in range(len(inmat)): # обр к индексу 1 уровня (строка)\n",
    "            row = []\n",
    "            for y in range(len(inmat[x])): # обр к индексу 2 уровня (столбец)\n",
    "\n",
    "                up = inmat[x-1][y]\n",
    "                down = inmat[(x+1) % len(inmat)][y]\n",
    "                left = inmat[x][y-1]\n",
    "                right = inmat[x][(y+1) % len(inmat[x])]\n",
    "# обр к индексу 2 уровня (столбец)\n",
    "                row.append(up+down+left+right)\n",
    "            col.append(row)\n",
    "        break\n",
    "\n",
    "    a = [int(i) for i in input_string.split()]\n",
    "\n",
    "\n",
    "for i in col:\n",
    "    print(*i)"
   ]
  },
  {
   "cell_type": "code",
   "execution_count": 11,
   "metadata": {},
   "outputs": [
    {
     "ename": "IndentationError",
     "evalue": "unexpected indent (<ipython-input-11-d8b795345678>, line 7)",
     "output_type": "error",
     "traceback": [
      "\u001b[0;36m  File \u001b[0;32m\"<ipython-input-11-d8b795345678>\"\u001b[0;36m, line \u001b[0;32m7\u001b[0m\n\u001b[0;31m    for i in range (x, y+1):\u001b[0m\n\u001b[0m    ^\u001b[0m\n\u001b[0;31mIndentationError\u001b[0m\u001b[0;31m:\u001b[0m unexpected indent\n"
     ]
    }
   ],
   "source": [
    "n = int(input())\n",
    "mat = [[0 for j in range(n)] for i in range(n)]\n",
    "\n",
    "for y in range(len(mat)): # обр к индексу 1 уровня (индекс строки, ось у)\n",
    "    for x in range(len(mat[y])): # обр к индексу 2 уровня (индекс столбца, ось х)\n",
    "        mat [y][x]= (x+1)\n",
    "            for i in range (x, y+1):\n",
    "                mat [y][x]= 0\n",
    "    \n",
    "        \n",
    "   \n",
    "for i in mat:\n",
    "    print (*i)"
   ]
  },
  {
   "cell_type": "markdown",
   "metadata": {},
   "source": [
    "n = int(input())\n",
    "mat = [[0]*n for i in range(n)]\n",
    "st, m = 1, 0\n",
    "# Заранее присваиваю значение центральному элементу\n",
    "# матрицы\n",
    "mat[n//2][n//2]=n*n\n",
    "for v in range(n//2):\n",
    "    #Заполнение верхней горизонтальной матрицы\n",
    "    for i in range(n-m):\n",
    "        mat[v][i+v] = st\n",
    "        st+=1\n",
    "        #i+=1\n",
    "    #Заполнение правой вертикальной матрицы    \n",
    "    for i in range(v+1, n-v):\n",
    "        mat[i][-v-1] = st\n",
    "        st+=1\n",
    "        #i+=1\n",
    "    #Заполнение нижней горизонтальной матрицы\n",
    "    for i in range(v+1, n-v):\n",
    "        mat[-v-1][-i-1] =st\n",
    "        st+=1\n",
    "        #i+=1\n",
    "    #Заполнение левой вертикальной матрицы\n",
    "    for i in range(v+1, n-(v+1)):\n",
    "        mat[-i-1][v]=st\n",
    "        st+=1\n",
    "        #i+=1\n",
    "    #v+=1\n",
    "    m+=2\n",
    "#Вывод результата на экран\n",
    "for i in mat:\n",
    "    print(*i)"
   ]
  },
  {
   "cell_type": "code",
   "execution_count": 12,
   "metadata": {},
   "outputs": [
    {
     "name": "stdout",
     "output_type": "stream",
     "text": [
      "5\n",
      "1 2 3 4 5\n",
      "16 17 18 19 6\n",
      "15 24 25 20 7\n",
      "14 23 22 21 8\n",
      "13 12 11 10 9\n"
     ]
    }
   ],
   "source": [
    "n = int(input())\n",
    "mat = [[0]*n for i in range(n)]\n",
    "st, m = 1, 0\n",
    "# Заранее присваиваю значение центральному элементу\n",
    "# матрицы\n",
    "mat[n//2][n//2]=n*n\n",
    "for v in range(n//2):\n",
    "    #Заполнение верхней горизонтальной матрицы\n",
    "    for i in range(n-m):\n",
    "        mat[v][i+v] = st\n",
    "        st+=1\n",
    "        #i+=1\n",
    "    #Заполнение правой вертикальной матрицы    \n",
    "    for i in range(v+1, n-v):\n",
    "        mat[i][-v-1] = st\n",
    "        st+=1\n",
    "        #i+=1\n",
    "    #Заполнение нижней горизонтальной матрицы\n",
    "    for i in range(v+1, n-v):\n",
    "        mat[-v-1][-i-1] =st\n",
    "        st+=1\n",
    "        #i+=1\n",
    "    #Заполнение левой вертикальной матрицы\n",
    "    for i in range(v+1, n-(v+1)):\n",
    "        mat[-i-1][v]=st\n",
    "        st+=1\n",
    "        #i+=1\n",
    "    #v+=1\n",
    "    m+=2\n",
    "#Вывод результата на экран\n",
    "for i in mat:\n",
    "    print(*i)"
   ]
  },
  {
   "cell_type": "markdown",
   "metadata": {},
   "source": [
    "# "
   ]
  }
 ],
 "metadata": {
  "kernelspec": {
   "display_name": "Python 3",
   "language": "python",
   "name": "python3"
  },
  "language_info": {
   "codemirror_mode": {
    "name": "ipython",
    "version": 3
   },
   "file_extension": ".py",
   "mimetype": "text/x-python",
   "name": "python",
   "nbconvert_exporter": "python",
   "pygments_lexer": "ipython3",
   "version": "3.8.10"
  }
 },
 "nbformat": 4,
 "nbformat_minor": 4
}
