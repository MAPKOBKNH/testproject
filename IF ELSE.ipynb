{
 "cells": [
  {
   "cell_type": "code",
   "execution_count": 12,
   "metadata": {},
   "outputs": [
    {
     "name": "stdout",
     "output_type": "stream",
     "text": [
      "768365\n",
      "Обычный\n"
     ]
    }
   ],
   "source": [
    "a,b,c,d,e,f = str(input()) # присваиваем каждой переменной значение из строки по порядку\n",
    "if int(a)+int(b)+int(c) == int(d)+int(e)+int(f): # проверяем условие\n",
    "    print('Счастливый')\n",
    "else:\n",
    "    print('Обычный')"
   ]
  },
  {
   "cell_type": "code",
   "execution_count": 17,
   "metadata": {},
   "outputs": [
    {
     "name": "stdout",
     "output_type": "stream",
     "text": [
      "123456\n",
      "Обычный\n",
      "12\n"
     ]
    }
   ],
   "source": [
    "a,b,c,d,e,f = (input()) # присваиваем каждой переменной значение из строки по порядку\n",
    "if int(a)+int(b)+int(c) == int(d)+int(e)+int(f): # проверяем условие\n",
    "    print('Счастливый')\n",
    "else:\n",
    "    print('Обычный')\n",
    "print(a+b)"
   ]
  },
  {
   "cell_type": "code",
   "execution_count": 18,
   "metadata": {},
   "outputs": [
    {
     "name": "stdout",
     "output_type": "stream",
     "text": [
      "123456\n",
      "12\n"
     ]
    }
   ],
   "source": [
    "a,b,c,d,e,f = (input()) # при таком вводе он читает данные как строку\n",
    "print(a+b)"
   ]
  },
  {
   "cell_type": "code",
   "execution_count": null,
   "metadata": {},
   "outputs": [],
   "source": [
    "# поэтому перед сложением надо задавать тип данных \"целое число...ну или натуральное число и тп. но число!!!\""
   ]
  },
  {
   "cell_type": "code",
   "execution_count": 20,
   "metadata": {},
   "outputs": [
    {
     "name": "stdout",
     "output_type": "stream",
     "text": [
      "222222\n",
      "Счастливый\n"
     ]
    }
   ],
   "source": [
    "# тоже прикольный вариант: взяты символы по порядку\n",
    "b = input()\n",
    "s = int(b[0]) + int(b[1]) + int(b[2]) - int(b[3]) - int(b[4]) - int(b[5])\n",
    "if s == 0:\n",
    "    print(\"Счастливый\")\n",
    "else:\n",
    "    print(\"Обычный\")"
   ]
  },
  {
   "cell_type": "code",
   "execution_count": 23,
   "metadata": {},
   "outputs": [
    {
     "name": "stdout",
     "output_type": "stream",
     "text": [
      "6\n",
      "0\n"
     ]
    }
   ],
   "source": [
    "a = int(input())\n",
    "print(a % 2) "
   ]
  },
  {
   "cell_type": "code",
   "execution_count": 26,
   "metadata": {},
   "outputs": [
    {
     "name": "stdout",
     "output_type": "stream",
     "text": [
      "3\n",
      "5\n",
      "7\n",
      "9\n",
      "11\n",
      "13\n",
      "15\n",
      "17\n",
      "19\n",
      "21\n",
      "23\n",
      "25\n",
      "27\n",
      "29\n"
     ]
    }
   ],
   "source": [
    "a = 3\n",
    "while a <= 30:\n",
    "    if a % 2 == 1:\n",
    "        print(a)\n",
    "    a += 1"
   ]
  },
  {
   "cell_type": "code",
   "execution_count": null,
   "metadata": {},
   "outputs": [],
   "source": []
  }
 ],
 "metadata": {
  "kernelspec": {
   "display_name": "Python 3",
   "language": "python",
   "name": "python3"
  },
  "language_info": {
   "codemirror_mode": {
    "name": "ipython",
    "version": 3
   },
   "file_extension": ".py",
   "mimetype": "text/x-python",
   "name": "python",
   "nbconvert_exporter": "python",
   "pygments_lexer": "ipython3",
   "version": "3.8.10"
  }
 },
 "nbformat": 4,
 "nbformat_minor": 4
}
