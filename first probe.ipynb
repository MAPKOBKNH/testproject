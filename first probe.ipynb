{
 "cells": [
  {
   "cell_type": "code",
   "execution_count": 1,
   "metadata": {},
   "outputs": [
    {
     "name": "stdout",
     "output_type": "stream",
     "text": [
      "Введите общий штат техники: 580\n",
      "14\n"
     ]
    }
   ],
   "source": [
    "q=100 #prozent parka\n",
    "a = int(input('Введите общий штат техники: ')) #park vsego\n",
    "b=84 #gruz transport num\n",
    "c=round((b/a)*100) #gruz transport v % ot vsego parka\n",
    "print(c)"
   ]
  },
  {
   "cell_type": "code",
   "execution_count": 2,
   "metadata": {},
   "outputs": [
    {
     "name": "stdout",
     "output_type": "stream",
     "text": [
      "67\n"
     ]
    }
   ],
   "source": [
    "d=56 #bolee 3,5 tonn\n",
    "e=round(d/b*100) #bolee 3,5 tonn v % ot gruzovikov\n",
    "print(e)"
   ]
  },
  {
   "cell_type": "code",
   "execution_count": 3,
   "metadata": {},
   "outputs": [
    {
     "name": "stdout",
     "output_type": "stream",
     "text": [
      "10\n"
     ]
    }
   ],
   "source": [
    "f=round(d/a*100) #bolee 3,5 tonn v % ot parka\n",
    "print(f)"
   ]
  },
  {
   "cell_type": "code",
   "execution_count": 4,
   "metadata": {},
   "outputs": [
    {
     "data": {
      "image/png": "[encoded data removed]",
      "text/plain": [
       "<Figure size 432x288 with 1 Axes>"
      ]
     },
     "metadata": {
      "needs_background": "light"
     },
     "output_type": "display_data"
    }
   ],
   "source": [
    "import numpy as np\n",
    "import matplotlib.pyplot as plt #подключает библиотеку\n",
    "%matplotlib inline\n",
    "x=[\"Всего парк\",\"ГА\",\"3,5т от ГА\",\"3,5т от парка\"]\n",
    "y=[q,c,e,f]\n",
    "plt.bar(x,y)\n",
    "plt.title(\"Соотношение грузового транспорта\")\n",
    "plt.xlabel(\"типы ТС\")\n",
    "plt.ylabel(\"Количество в %\")\n",
    "plt.grid()\n",
    "plt.show()"
   ]
  },
  {
   "cell_type": "code",
   "execution_count": null,
   "metadata": {},
   "outputs": [],
   "source": []
  },
  {
   "cell_type": "code",
   "execution_count": null,
   "metadata": {},
   "outputs": [],
   "source": []
  }
 ],
 "metadata": {
  "kernelspec": {
   "display_name": "Python 3",
   "language": "python",
   "name": "python3"
  },
  "language_info": {
   "codemirror_mode": {
    "name": "ipython",
    "version": 3
   },
   "file_extension": ".py",
   "mimetype": "text/x-python",
   "name": "python",
   "nbconvert_exporter": "python",
   "pygments_lexer": "ipython3",
   "version": "3.8.10"
  }
 },
 "nbformat": 4,
 "nbformat_minor": 2
}
