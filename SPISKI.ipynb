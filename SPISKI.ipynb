{
 "cells": [
  {
   "cell_type": "code",
   "execution_count": 6,
   "metadata": {},
   "outputs": [
    {
     "name": "stdout",
     "output_type": "stream",
     "text": [
      "['Ivan', 'Masha', 'Sasha', 'Olga', 'O', 'l', 'g', 'a', 'Ivan']\n",
      "['Masha', 'Sasha', 'Olga', 'O', 'l', 'g', 'a', 'Ivan']\n"
     ]
    }
   ],
   "source": [
    "students = ['Ivan', 'Masha', 'Sasha']\n",
    "students += ['Olga']\n",
    "students += 'Olga'\n",
    "students += ['Ivan']\n",
    "print(students)\n",
    "students.remove('Ivan')\n",
    "print(students)"
   ]
  },
  {
   "cell_type": "code",
   "execution_count": 41,
   "metadata": {},
   "outputs": [
    {
     "name": "stdout",
     "output_type": "stream",
     "text": [
      "4 -1 9 3\n",
      "15\n"
     ]
    }
   ],
   "source": [
    "# печть суммы натуральных чисел списка\n",
    "lst = [int(i) for i in input().split()]\n",
    "print (sum(lst))"
   ]
  },
  {
   "cell_type": "code",
   "execution_count": 110,
   "metadata": {},
   "outputs": [
    {
     "name": "stdout",
     "output_type": "stream",
     "text": [
      "10\n",
      "10\n",
      "\n"
     ]
    }
   ],
   "source": [
    "#  сумма крайних чисел для каждого числa списка\n",
    "lst = [int(i) for i in input().split()]\n",
    "data_out = []\n",
    "l = len(lst)\n",
    "if l == 1:\n",
    "    print(lst[0])\n",
    "else :\n",
    "    for i in range (l):\n",
    "        if i == 0:\n",
    "            data_out += [(lst[i+1] + lst[-1])] \n",
    "        elif 0 < i <= l-2:\n",
    "            data_out += [lst[i-1] + lst[i+1]]\n",
    "        elif i == l-1:\n",
    "            data_out += [lst[-2] + lst[0]]\n",
    "print(\" \".join(map(str, data_out)))"
   ]
  },
  {
   "cell_type": "code",
   "execution_count": 106,
   "metadata": {
    "scrolled": true
   },
   "outputs": [
    {
     "name": "stdout",
     "output_type": "stream",
     "text": [
      "1 2 3 4\n",
      "6 4 6 4 "
     ]
    },
    {
     "data": {
      "text/plain": [
       "[None, None, None, None]"
      ]
     },
     "execution_count": 106,
     "metadata": {},
     "output_type": "execute_result"
    }
   ],
   "source": [
    "# то же самое но короче\n",
    "a=[int(i) for i in input().split()]\n",
    "b=len(a)\n",
    "[print(int(a[i-1])*(1-(b==1))+int(a[(i+1)%b]), end=' ') for i in range(b)]"
   ]
  },
  {
   "cell_type": "code",
   "execution_count": 294,
   "metadata": {},
   "outputs": [
    {
     "name": "stdout",
     "output_type": "stream",
     "text": [
      "-11 0 7 54 7 6 3 2 3 4 3 -11 10 7 7 10\n",
      "[-11, -11, 0, 2, 3, 3, 3, 4, 6, 7, 7, 7, 7, 10, 10, 54]\n",
      "{10, 3, -11, 7}\n"
     ]
    }
   ],
   "source": [
    "IN = [int(i) for i in input().split()]\n",
    "OUT = []                                        \n",
    "IN.sort()\n",
    "print (IN)\n",
    "for n in IN:\n",
    "    if IN.count(n) > 1:\n",
    "        OUT += [n]\n",
    "print(set(OUT))"
   ]
  },
  {
   "cell_type": "code",
   "execution_count": null,
   "metadata": {},
   "outputs": [],
   "source": [
    "4 8 0 3 4 2 0 3\n",
    "4 8 0 3 4 2 0 3"
   ]
  },
  {
   "cell_type": "code",
   "execution_count": 1,
   "metadata": {},
   "outputs": [
    {
     "name": "stdout",
     "output_type": "stream",
     "text": [
      "1\n"
     ]
    }
   ],
   "source": [
    "s = [1, 1, 3, 2, 4, 4, 10, 10]\n",
    "print(s.count(2))\n",
    "\n"
   ]
  },
  {
   "cell_type": "code",
   "execution_count": 286,
   "metadata": {},
   "outputs": [
    {
     "name": "stdout",
     "output_type": "stream",
     "text": [
      "-11 0 7 54 7 6 3 2 3 4 3 -11 10 7 7 10\n",
      "-11 3 7 10\n"
     ]
    }
   ],
   "source": [
    "IN = [int(i) for i in input().split()]          # ввод списка\n",
    "OUT = []                                        # пустой список\n",
    "IN.sort()                                       # сортировка\n",
    "for i in range (len(IN)):                       # диапзон\n",
    "    x = IN[i]                                   # переменная равная ЗНАЧЕНИЮ индекса в списке\n",
    "    if IN.count(x) >1 and x not in OUT:         # проверяем условие\n",
    "        OUT += [x]                              # добавление в пустой\n",
    "print(*OUT)                                     # вывод"
   ]
  },
  {
   "cell_type": "code",
   "execution_count": 3,
   "metadata": {},
   "outputs": [
    {
     "name": "stdout",
     "output_type": "stream",
     "text": [
      "[[0, 0, 2, 0], [0, 0, 0, 0], [0, 0, 0, 0], [0, 0, 0, 0]]\n"
     ]
    }
   ],
   "source": [
    "n =4\n",
    "a = [[0]*n for i in range(n)]\n",
    "a[0][2] = 1+1\n",
    "print(a)"
   ]
  },
  {
   "cell_type": "code",
   "execution_count": 298,
   "metadata": {},
   "outputs": [
    {
     "name": "stdout",
     "output_type": "stream",
     "text": [
      "[[0, 0, 0, 0, 0], [0, 0, 0, 0, 0], [0, 0, 0, 0, 0], [0, 0, 0, 0, 0], [0, 0, 0, 0, 0]]\n"
     ]
    }
   ],
   "source": [
    "n = 5\n",
    "a = [[0 for j in range(n)] for i in range(n)]\n",
    "print(a)"
   ]
  },
  {
   "cell_type": "code",
   "execution_count": null,
   "metadata": {},
   "outputs": [],
   "source": []
  }
 ],
 "metadata": {
  "kernelspec": {
   "display_name": "Python 3",
   "language": "python",
   "name": "python3"
  },
  "language_info": {
   "codemirror_mode": {
    "name": "ipython",
    "version": 3
   },
   "file_extension": ".py",
   "mimetype": "text/x-python",
   "name": "python",
   "nbconvert_exporter": "python",
   "pygments_lexer": "ipython3",
   "version": "3.8.10"
  }
 },
 "nbformat": 4,
 "nbformat_minor": 4
}
