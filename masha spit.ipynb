{
 "cells": [
  {
   "cell_type": "code",
   "execution_count": 1,
   "metadata": {},
   "outputs": [
    {
     "name": "stdout",
     "output_type": "stream",
     "text": [
      " введите время сна в мин и время, когда Маша ложится спать \" часы; минуты \"\n",
      "560\n",
      "1\n",
      "20\n",
      "10 chasov\n",
      "40 minut\n"
     ]
    }
   ],
   "source": [
    "print(''' введите время сна в мин и время, когда Маша ложится спать \" часы; минуты \"''')\n",
    "a = int(input()) # tsna v min\n",
    "a1 = int(input()) # chas\n",
    "a2 = int(input()) # min\n",
    "\n",
    "t1 = ((a1*60) + a2 + a) // 60 # chas budilnika\n",
    "t2 = ((a1*60) + a2 + a) % 60 # min budilnika\n",
    "\n",
    "print ((t1) , 'chasov')\n",
    "print ((t2) , 'minut')"
   ]
  }
 ],
 "metadata": {
  "kernelspec": {
   "display_name": "Python 3",
   "language": "python",
   "name": "python3"
  },
  "language_info": {
   "codemirror_mode": {
    "name": "ipython",
    "version": 3
   },
   "file_extension": ".py",
   "mimetype": "text/x-python",
   "name": "python",
   "nbconvert_exporter": "python",
   "pygments_lexer": "ipython3",
   "version": "3.8.10"
  }
 },
 "nbformat": 4,
 "nbformat_minor": 4
}
