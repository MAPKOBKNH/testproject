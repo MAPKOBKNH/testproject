{
 "cells": [
  {
   "cell_type": "code",
   "execution_count": 24,
   "metadata": {},
   "outputs": [
    {
     "name": "stdout",
     "output_type": "stream",
     "text": [
      "None\n",
      "{2: [-1]}\n",
      "{2: [-1, -2]}\n",
      "{2: [-1, -2, -3]}\n",
      "{2: [-1, -2, -3, 5]}\n",
      "{2: [-1, -2, -3, 5], 14: [10]}\n",
      "{2: [-1, -2, -3, 5], 14: [10, 100]}\n"
     ]
    }
   ],
   "source": [
    "def update_dictionary(d, key, value):\n",
    "    if key in d:\n",
    "        d[key]+= [value] #добавить значение по ключу\n",
    "    elif key not in d:\n",
    "        key=key*2\n",
    "        if key in d:\n",
    "            d[key]+=[value]\n",
    "        elif key not in d:\n",
    "            d[key]=[value] #создать значение с ключом\n",
    "   \n",
    "  \n",
    "        \n",
    "\n",
    "d = {}   \n",
    "print(update_dictionary(d, 1, -1))  # None\n",
    "print(d)                            # {2: [-1]}\n",
    "update_dictionary(d, 2, -2)\n",
    "print(d)                            # {2: [-1, -2]}\n",
    "update_dictionary(d, 1, -3)\n",
    "print(d)                    \n",
    "update_dictionary(d, 2, 5)\n",
    "print(d)        \n",
    "update_dictionary(d, 7, 10)\n",
    "print(d)        \n",
    "update_dictionary(d, 7, 100)\n",
    "print(d)        "
   ]
  },
  {
   "cell_type": "code",
   "execution_count": null,
   "metadata": {},
   "outputs": [],
   "source": []
  }
 ],
 "metadata": {
  "kernelspec": {
   "display_name": "Python 3",
   "language": "python",
   "name": "python3"
  },
  "language_info": {
   "codemirror_mode": {
    "name": "ipython",
    "version": 3
   },
   "file_extension": ".py",
   "mimetype": "text/x-python",
   "name": "python",
   "nbconvert_exporter": "python",
   "pygments_lexer": "ipython3",
   "version": "3.8.10"
  }
 },
 "nbformat": 4,
 "nbformat_minor": 4
}
