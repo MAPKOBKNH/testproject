{
 "cells": [
  {
   "cell_type": "code",
   "execution_count": 1,
   "metadata": {},
   "outputs": [
    {
     "data": {
      "text/plain": [
       "'12342'"
      ]
     },
     "execution_count": 1,
     "metadata": {},
     "output_type": "execute_result"
    }
   ],
   "source": [
    "\"123\" + \"42\""
   ]
  },
  {
   "cell_type": "code",
   "execution_count": 59,
   "metadata": {},
   "outputs": [
    {
     "name": "stdout",
     "output_type": "stream",
     "text": [
      "4\n",
      "5\n",
      "6\n",
      "9.921567416492215\n"
     ]
    }
   ],
   "source": [
    "a = int(input())\n",
    "b = int(input())\n",
    "c = int(input())\n",
    "\n",
    "p = (a + b + c) / 2\n",
    "\n",
    "S = float((p * (p-a) * (p-b) * (p-c)) ** 0.5)\n",
    "print(S)"
   ]
  },
  {
   "cell_type": "code",
   "execution_count": 5,
   "metadata": {},
   "outputs": [
    {
     "name": "stdout",
     "output_type": "stream",
     "text": [
      "0.7142857142857143\n"
     ]
    }
   ],
   "source": [
    "a=5/7\n",
    "print(a)"
   ]
  },
  {
   "cell_type": "code",
   "execution_count": 29,
   "metadata": {},
   "outputs": [
    {
     "name": "stdout",
     "output_type": "stream",
     "text": [
      "-99\n",
      "False\n"
     ]
    }
   ],
   "source": [
    "# (−15,12]∪(14,17)∪[19,+∞) \n",
    "\n",
    "a = int(input()) \n",
    "\n",
    "print ((-15 < a <= 12) or (14 < a < 17) or (19 <= a))"
   ]
  },
  {
   "cell_type": "code",
   "execution_count": 57,
   "metadata": {},
   "outputs": [
    {
     "name": "stdout",
     "output_type": "stream",
     "text": [
      "Vvedite operand#1\n",
      "8\n",
      "Vvedite operand#2\n",
      "0\n",
      "Vvedite operator \"+, -, /, *, mod, pow, div\"\n",
      "div\n",
      "Деление на 0!\n"
     ]
    }
   ],
   "source": [
    "# kurkulyator\n",
    "\n",
    "print('Vvedite operand#1')\n",
    "a = float(input())\n",
    "\n",
    "print('Vvedite operand#2')\n",
    "b = float(input())\n",
    "\n",
    "print('Vvedite operator \"+, -, /, *, mod, pow, div\"')\n",
    "c = str(input())\n",
    "\n",
    "if c == '+' :\n",
    "    print(a+b)\n",
    "elif c == '-' :\n",
    "    print(a-b)\n",
    "elif c == '/' :\n",
    "    if b == 0:\n",
    "        print (\"Деление на 0!\")\n",
    "    else:\n",
    "        print(a/b)\n",
    "elif c == '*' :\n",
    "    print(a*b)\n",
    "elif c == 'mod' :\n",
    "    if b == 0:\n",
    "        print (\"Деление на 0!\")\n",
    "    else:\n",
    "        print(a%b)\n",
    "elif c == 'pow' :\n",
    "    print(a**b)\n",
    "elif c == 'div' :\n",
    "    if b == 0:\n",
    "        print (\"Деление на 0!\")\n",
    "    else:\n",
    "        print(a//b)\n"
   ]
  },
  {
   "cell_type": "code",
   "execution_count": 62,
   "metadata": {},
   "outputs": [
    {
     "name": "stdout",
     "output_type": "stream",
     "text": [
      "круг\n",
      "5\n",
      "78.5\n"
     ]
    }
   ],
   "source": [
    "a = str(input())\n",
    "\n",
    "if a == 'треугольник' :\n",
    "    a = int(input())\n",
    "    b = int(input())\n",
    "    c = int(input())\n",
    "\n",
    "    p = (a + b + c) / 2\n",
    "\n",
    "    S = float((p * (p-a) * (p-b) * (p-c)) ** 0.5)\n",
    "    print(S)\n",
    "    \n",
    "elif a == 'прямоугольник' :\n",
    "    a = int(input())\n",
    "    b = int(input())\n",
    "    print (float(a*b))\n",
    "    \n",
    "elif a == 'круг' : \n",
    "    r = int(input())\n",
    "    pi = 3.14\n",
    "    print (float(pi*r**2))\n"
   ]
  },
  {
   "cell_type": "code",
   "execution_count": 78,
   "metadata": {},
   "outputs": [
    {
     "name": "stdout",
     "output_type": "stream",
     "text": [
      "1\n",
      "5\n",
      "9\n",
      "9\n",
      "1\n",
      "5\n"
     ]
    }
   ],
   "source": [
    "a = int(input())\n",
    "b = int(input())\n",
    "c = int(input())\n",
    "\n",
    "list = [a, b, c]\n",
    "print (max(list))\n",
    "print (min(list))\n",
    "list.remove(max(list))\n",
    "list.remove(min(list))\n",
    "print (list[0])"
   ]
  },
  {
   "cell_type": "code",
   "execution_count": 118,
   "metadata": {},
   "outputs": [
    {
     "name": "stdout",
     "output_type": "stream",
     "text": [
      "19\n",
      "19 программистов\n"
     ]
    }
   ],
   "source": [
    "n = int(input()) #число программистов в комнате\n",
    "n1 = n % 10\n",
    "n2 = n % 100\n",
    "if n1 == 0 or 5 <= n1 <= 9 or 11 <= n2 <= 14 :\n",
    "    print (n,'программистов')\n",
    "elif n1 == 1 :\n",
    "    print (n,'программист')\n",
    "elif 2 <= n1 <= 4 :\n",
    "    print (n,'программиста')"
   ]
  },
  {
   "cell_type": "code",
   "execution_count": null,
   "metadata": {},
   "outputs": [],
   "source": [
    "# хорошее решение\n",
    "\n",
    "n = int(input())\n",
    "if (n % 10 == 1 and n%100 != 11):\n",
    "    print(n, 'программист')\n",
    "elif (n % 10 in [2, 3, 4] and not n % 100 in [12, 13, 14] ):\n",
    "    print(n, 'программиста')\n",
    "else:\n",
    "    print(n, 'программистов')"
   ]
  },
  {
   "cell_type": "code",
   "execution_count": 35,
   "metadata": {},
   "outputs": [
    {
     "name": "stdout",
     "output_type": "stream",
     "text": [
      "caggtggac\n",
      "66.66666666666666\n"
     ]
    }
   ],
   "source": [
    "# Задача на количество \"GT\" во введенной строке\n",
    "s = str(input())\n",
    "n = s.upper().count('G') + s.upper().count('C')\n",
    "print (float((n / len (s)) * 100))"
   ]
  },
  {
   "cell_type": "code",
   "execution_count": 32,
   "metadata": {},
   "outputs": [
    {
     "name": "stdout",
     "output_type": "stream",
     "text": [
      "agagtc\n",
      "cg 50.0 %\n",
      "at 50.0 %\n"
     ]
    }
   ],
   "source": [
    "gen = input().lower()\n",
    "cg = gen.replace('a', '').replace('t', '')\n",
    "at = gen.replace('g', '').replace('c', '')\n",
    "print(\"cg\", (100 * len(cg) / len(gen)), \"%\")\n",
    "print(\"at\", (100 * len(at) / len(gen)), \"%\")"
   ]
  },
  {
   "cell_type": "code",
   "execution_count": null,
   "metadata": {},
   "outputs": [],
   "source": [
    "genome = (input()).lower()\n",
    "print((genome.count('g') + genome.count('c')) / len(genome) * 100)"
   ]
  },
  {
   "cell_type": "code",
   "execution_count": 36,
   "metadata": {},
   "outputs": [
    {
     "name": "stdout",
     "output_type": "stream",
     "text": [
      "caggtggac\n",
      "yes\n"
     ]
    }
   ],
   "source": [
    "#  хуевое решение: создается вторая строкa -клон, которая занимает память (много данных)\n",
    "s = str(input())     \n",
    "if s == s [:: -1]:       # является ли слово ПОЛИНДРОМОМ\n",
    "    print('yes')\n",
    "else:\n",
    "    print('no')"
   ]
  },
  {
   "cell_type": "code",
   "execution_count": 48,
   "metadata": {},
   "outputs": [
    {
     "name": "stdout",
     "output_type": "stream",
     "text": [
      "qwertyuytrewq\n",
      "yes\n"
     ]
    }
   ],
   "source": [
    "# хорошее решение: анализируется 1 строка с двух концов\n",
    "s = str(input()) \n",
    "a = 0\n",
    "b = len(s)-1\n",
    "palindrom = True\n",
    "while a < b:\n",
    "    if s[a] != s[b]:\n",
    "        palindrom = False\n",
    "        break\n",
    "    a +=a\n",
    "    b -=b\n",
    "if palindrom == True:\n",
    "    print('yes')\n",
    "else:\n",
    "    print('no')"
   ]
  },
  {
   "cell_type": "code",
   "execution_count": 79,
   "metadata": {},
   "outputs": [
    {
     "name": "stdout",
     "output_type": "stream",
     "text": [
      "a2f2s1d1e1j2\n"
     ]
    }
   ],
   "source": [
    "# 44 операций\n",
    "s = str(input())\n",
    "n = 1 # счетчик равен 1 тк оди символ уже есть\n",
    "l = len(s)\n",
    "for i in range(l):\n",
    "    if i+1 == l:\n",
    "        print(s[i]+str(n))\n",
    "        break\n",
    "    elif s[i] != s[i+1]:\n",
    "        print(s[i]+str(n), end ='')\n",
    "        n = 1\n",
    "    else:\n",
    "        n += 1"
   ]
  },
  {
   "cell_type": "code",
   "execution_count": null,
   "metadata": {},
   "outputs": [],
   "source": [
    "genome = str(input())        # Вводим геном\n",
    "s = 1                        # счетчик символов\n",
    "j = 1                        # переменная сравнения соседних символов\n",
    "for i in genome:             # проходимся по геному\n",
    "    pos = genome[j:j+1]      # позиция в строке генома\n",
    "    if i in pos:             # сравниваем символ по со следующим\n",
    "        s += 1               # если равен то добавляем счетчику +1\n",
    "    else:                    # иначе\n",
    "        print(i, end='')     # печатаем симфол\n",
    "        print(s, end='')     # печатаем счетчик\n",
    "        s = 1                # сбрасываем счетчик\n",
    "    j += 1                   # смещаем переменную сравнения соседних символов на следующий индекс"
   ]
  }
 ],
 "metadata": {
  "kernelspec": {
   "display_name": "Python 3",
   "language": "python",
   "name": "python3"
  },
  "language_info": {
   "codemirror_mode": {
    "name": "ipython",
    "version": 3
   },
   "file_extension": ".py",
   "mimetype": "text/x-python",
   "name": "python",
   "nbconvert_exporter": "python",
   "pygments_lexer": "ipython3",
   "version": "3.8.10"
  }
 },
 "nbformat": 4,
 "nbformat_minor": 4
}
